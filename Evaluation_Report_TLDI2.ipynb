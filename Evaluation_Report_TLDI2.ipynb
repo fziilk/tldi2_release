{
  "nbformat": 4,
  "nbformat_minor": 0,
  "metadata": {
    "colab": {
      "provenance": [],
      "toc_visible": true
    },
    "kernelspec": {
      "name": "python3",
      "display_name": "Python 3"
    },
    "language_info": {
      "name": "python"
    }
  },
  "cells": [
    {
      "cell_type": "markdown",
      "source": [
        "# TLDI2: Tea Leave Disease Identifier 2\n",
        "\n",
        "```\n",
        "git@github.com:fziilk/tldi2_release.git\n",
        "```"
      ],
      "metadata": {
        "id": "zrJLzaxdETnD"
      }
    },
    {
      "cell_type": "markdown",
      "source": [
        "## Importing Dependencies"
      ],
      "metadata": {
        "id": "lwxjgV6NWZWP"
      }
    },
    {
      "cell_type": "code",
      "source": [
        "!pip install split-folders"
      ],
      "metadata": {
        "colab": {
          "base_uri": "https://localhost:8080/"
        },
        "id": "bM_CdUqt-6xx",
        "outputId": "2aacb29d-48e8-40c2-c7dd-d070c8ec36e7"
      },
      "execution_count": 12,
      "outputs": [
        {
          "output_type": "stream",
          "name": "stdout",
          "text": [
            "Looking in indexes: https://pypi.org/simple, https://us-python.pkg.dev/colab-wheels/public/simple/\n",
            "Collecting split-folders\n",
            "  Downloading split_folders-0.5.1-py3-none-any.whl (8.4 kB)\n",
            "Installing collected packages: split-folders\n",
            "Successfully installed split-folders-0.5.1\n"
          ]
        }
      ]
    },
    {
      "cell_type": "code",
      "source": [
        "try:\n",
        "    # loading model\n",
        "    import keras\n",
        "    import tensorflow as tf\n",
        "    \n",
        "    # basic utilities\n",
        "    from zipfile import ZipFile\n",
        "    import numpy as np\n",
        "    import os\n",
        "    import shutil\n",
        "    import splitfolders\n",
        "\n",
        "    # evaluation\n",
        "    from sklearn.metrics import classification_report\n",
        "\n",
        "    print(f\"using tensorflow v{tf.__version__}\")\n",
        "    print(f\"using keras v{keras.__version__}\")\n",
        "except Exception:\n",
        "    import sys\n",
        "    exc_type, exc_obj, exc_tb = sys.exc_info()\n",
        "    raise Exception(f\"error on importing dependencies! Error on line: {exc_tb.tb_lineno}\")\n",
        "finally:\n",
        "    print(f\"Success on importing dependencies!\")"
      ],
      "metadata": {
        "colab": {
          "base_uri": "https://localhost:8080/"
        },
        "id": "OAa5PWIJWhHZ",
        "outputId": "afe9822b-c8cf-4d44-e3ed-7e942d69eb40"
      },
      "execution_count": 45,
      "outputs": [
        {
          "output_type": "stream",
          "name": "stdout",
          "text": [
            "using tensorflow v2.9.2\n",
            "using keras v2.9.0\n",
            "Success on importing dependencies!\n"
          ]
        }
      ]
    },
    {
      "cell_type": "markdown",
      "source": [
        "## Demo"
      ],
      "metadata": {
        "id": "vxgSJjiEZFhB"
      }
    },
    {
      "cell_type": "code",
      "source": [
        "CLASS_MAPPING = [\"algal_leaf\", \"anthracnose\", \"bird_eye_spot\", \"brown_blight\", \"gray_light\", \"healthy\", \"red_leaf_spot\", \"white_spot\"]"
      ],
      "metadata": {
        "id": "Wj4shjzEethE"
      },
      "execution_count": 2,
      "outputs": []
    },
    {
      "cell_type": "code",
      "source": [
        "class tldi():\n",
        "    def load(model_path: str):\n",
        "        \"\"\"\n",
        "        Params\n",
        "        ------\n",
        "        model_path (str): path to saved model {if using saved_model format, model_path is the parent directory of the saved model}\n",
        "        \"\"\"\n",
        "\n",
        "        if model_path.split(\".\")[-1] == \"h5\":\n",
        "            model = keras.models.load_model(model_path)\n",
        "        else:\n",
        "            model = tf.saved_model.load(model_path)\n",
        "\n",
        "        return model\n",
        "\n",
        "    def predict(model, img_path, class_mapping, display_img=True, raw_pred=False):\n",
        "        image = keras.utils.load_img(img_path, target_size=(224, 224))\n",
        "\n",
        "        # exceptional for deploying model\n",
        "        if display_img:\n",
        "            import matplotlib.pyplot as plt\n",
        "\n",
        "            plt.figure()\n",
        "            plt.imshow(image)\n",
        "            plt.colorbar()\n",
        "            plt.grid(False)\n",
        "            plt.show()\n",
        "\n",
        "        image = keras.utils.img_to_array(image)\n",
        "        image = np.expand_dims(image, axis=0)\n",
        "\n",
        "        y_hat = model.predict(np.vstack([image]))\n",
        "\n",
        "        if raw_pred:\n",
        "            print(f\"prediction: {y_hat}\")\n",
        "\n",
        "        class_index = np.argmax(y_hat)\n",
        "        y_hat_class = class_mapping[class_index]\n",
        "        \n",
        "        return y_hat_class, class_index"
      ],
      "metadata": {
        "id": "0bEuL_BLXD-5"
      },
      "execution_count": 28,
      "outputs": []
    },
    {
      "cell_type": "code",
      "source": [
        "class utils:\n",
        "    def kaggle(token_path: str, datasets=None, copy=True):\n",
        "        root_dir = \"/root/.kaggle\"\n",
        "        file_name = \"kaggle.json\"\n",
        "        file_loc = os.path.join(root_dir, file_name)\n",
        "\n",
        "        if not os.path.isdir(root_dir):\n",
        "            os.mkdir(root_dir)\n",
        "\n",
        "        if copy:\n",
        "            shutil.copy(token_path, root_dir)\n",
        "            status = \"copied\"\n",
        "        else:\n",
        "            shutil.move(token_path, root_dir)\n",
        "            status = \"moved\"\n",
        "\n",
        "        os.chmod(file_loc, 600)\n",
        "        print(f\"'kaggle.json' file have been {status} to {file_loc}!\")\n",
        "\n",
        "        if datasets is not None:\n",
        "            from kaggle.api.kaggle_api_extended import KaggleApi\n",
        "\n",
        "            api = KaggleApi()\n",
        "            api.authenticate()\n",
        "\n",
        "            if type(datasets) == str:\n",
        "                datasets = [datasets]\n",
        "\n",
        "            for dataset in datasets:\n",
        "                api.dataset_download_cli(dataset)\n",
        "\n",
        "            print(f\"\\nDataset has been successfully downloaded!\")\n",
        "\n",
        "    def unzip(path: str, output_dir: str, del_src=False):\n",
        "        with ZipFile(path, \"r\") as zf:\n",
        "            zf.extractall(output_dir)\n",
        "\n",
        "        print(f\"'{path}' has been extracted!\")\n",
        "\n",
        "        if del_src:\n",
        "            os.remove(path)"
      ],
      "metadata": {
        "id": "3uuSKK9IkOW-"
      },
      "execution_count": 5,
      "outputs": []
    },
    {
      "cell_type": "markdown",
      "source": [
        "### Getting the Models"
      ],
      "metadata": {
        "id": "iHQubJ5PZIsp"
      }
    },
    {
      "cell_type": "code",
      "source": [
        "!git clone --branch models https://github.com/fziilk/tldi2_release.git"
      ],
      "metadata": {
        "colab": {
          "base_uri": "https://localhost:8080/"
        },
        "id": "sAOA7RiDZKGo",
        "outputId": "fae37ef3-ab3c-444f-98ca-158b08ab2eb8"
      },
      "execution_count": 24,
      "outputs": [
        {
          "output_type": "stream",
          "name": "stdout",
          "text": [
            "Cloning into 'tldi2_release'...\n",
            "remote: Enumerating objects: 22, done.\u001b[K\n",
            "remote: Total 22 (delta 0), reused 0 (delta 0), pack-reused 22\u001b[K\n",
            "Unpacking objects: 100% (22/22), done.\n"
          ]
        }
      ]
    },
    {
      "cell_type": "markdown",
      "source": [
        "#### Loading the Models"
      ],
      "metadata": {
        "id": "qqmU15Hva0Aw"
      }
    },
    {
      "cell_type": "code",
      "source": [
        "base = os.path.join(os.getcwd(), \"tldi2_release\")"
      ],
      "metadata": {
        "id": "ARrynWJYbNA6"
      },
      "execution_count": 25,
      "outputs": []
    },
    {
      "cell_type": "code",
      "source": [
        "# tldi2_g2 h5 format\n",
        "tldi_g2_1 = tldi.load(os.path.join(base, \"tldi2_g2.h5\"))\n",
        "\n",
        "# tldi2_g2 saved_model.pb format\n",
        "tldi_g2_2 = tldi.load(os.path.join(base, \"tldi2v1_g2\"))\n",
        "\n",
        "# tldi2_resnet50 h5 format\n",
        "tldi_resnet50 = tldi.load(os.path.join(base, \"tldi2_resnet50.h5\"))"
      ],
      "metadata": {
        "id": "ffk3GyGna5Cr"
      },
      "execution_count": 26,
      "outputs": []
    },
    {
      "cell_type": "markdown",
      "source": [
        "### Getting Input Data"
      ],
      "metadata": {
        "id": "ycSXzvbSkAOb"
      }
    },
    {
      "cell_type": "code",
      "source": [
        "def normalize_dir(parent_dir: str):\n",
        "    for dir_name in os.listdir(parent_dir):\n",
        "        new_dir_name = dir_name.replace(\" \", \"_\")\n",
        "        new_dir_name = new_dir_name.lower()\n",
        "\n",
        "        os.rename(os.path.join(parent_dir, dir_name), os.path.join(parent_dir, new_dir_name))"
      ],
      "metadata": {
        "id": "Wp50XtlC-sas"
      },
      "execution_count": 10,
      "outputs": []
    },
    {
      "cell_type": "code",
      "source": [
        "from google.colab import files\n",
        "\n",
        "uploaded = files.upload()\n",
        "file_path = os.path.join(os.getcwd(), list(uploaded.keys())[0])"
      ],
      "metadata": {
        "colab": {
          "base_uri": "https://localhost:8080/",
          "height": 73
        },
        "id": "GL2MEFMKkBzl",
        "outputId": "fd1ab5c2-a4be-496e-85f3-4a2741ec9418"
      },
      "execution_count": 6,
      "outputs": [
        {
          "output_type": "display_data",
          "data": {
            "text/plain": [
              "<IPython.core.display.HTML object>"
            ],
            "text/html": [
              "\n",
              "     <input type=\"file\" id=\"files-63a92c14-dde7-417e-acdf-968728c493cd\" name=\"files[]\" multiple disabled\n",
              "        style=\"border:none\" />\n",
              "     <output id=\"result-63a92c14-dde7-417e-acdf-968728c493cd\">\n",
              "      Upload widget is only available when the cell has been executed in the\n",
              "      current browser session. Please rerun this cell to enable.\n",
              "      </output>\n",
              "      <script>// Copyright 2017 Google LLC\n",
              "//\n",
              "// Licensed under the Apache License, Version 2.0 (the \"License\");\n",
              "// you may not use this file except in compliance with the License.\n",
              "// You may obtain a copy of the License at\n",
              "//\n",
              "//      http://www.apache.org/licenses/LICENSE-2.0\n",
              "//\n",
              "// Unless required by applicable law or agreed to in writing, software\n",
              "// distributed under the License is distributed on an \"AS IS\" BASIS,\n",
              "// WITHOUT WARRANTIES OR CONDITIONS OF ANY KIND, either express or implied.\n",
              "// See the License for the specific language governing permissions and\n",
              "// limitations under the License.\n",
              "\n",
              "/**\n",
              " * @fileoverview Helpers for google.colab Python module.\n",
              " */\n",
              "(function(scope) {\n",
              "function span(text, styleAttributes = {}) {\n",
              "  const element = document.createElement('span');\n",
              "  element.textContent = text;\n",
              "  for (const key of Object.keys(styleAttributes)) {\n",
              "    element.style[key] = styleAttributes[key];\n",
              "  }\n",
              "  return element;\n",
              "}\n",
              "\n",
              "// Max number of bytes which will be uploaded at a time.\n",
              "const MAX_PAYLOAD_SIZE = 100 * 1024;\n",
              "\n",
              "function _uploadFiles(inputId, outputId) {\n",
              "  const steps = uploadFilesStep(inputId, outputId);\n",
              "  const outputElement = document.getElementById(outputId);\n",
              "  // Cache steps on the outputElement to make it available for the next call\n",
              "  // to uploadFilesContinue from Python.\n",
              "  outputElement.steps = steps;\n",
              "\n",
              "  return _uploadFilesContinue(outputId);\n",
              "}\n",
              "\n",
              "// This is roughly an async generator (not supported in the browser yet),\n",
              "// where there are multiple asynchronous steps and the Python side is going\n",
              "// to poll for completion of each step.\n",
              "// This uses a Promise to block the python side on completion of each step,\n",
              "// then passes the result of the previous step as the input to the next step.\n",
              "function _uploadFilesContinue(outputId) {\n",
              "  const outputElement = document.getElementById(outputId);\n",
              "  const steps = outputElement.steps;\n",
              "\n",
              "  const next = steps.next(outputElement.lastPromiseValue);\n",
              "  return Promise.resolve(next.value.promise).then((value) => {\n",
              "    // Cache the last promise value to make it available to the next\n",
              "    // step of the generator.\n",
              "    outputElement.lastPromiseValue = value;\n",
              "    return next.value.response;\n",
              "  });\n",
              "}\n",
              "\n",
              "/**\n",
              " * Generator function which is called between each async step of the upload\n",
              " * process.\n",
              " * @param {string} inputId Element ID of the input file picker element.\n",
              " * @param {string} outputId Element ID of the output display.\n",
              " * @return {!Iterable<!Object>} Iterable of next steps.\n",
              " */\n",
              "function* uploadFilesStep(inputId, outputId) {\n",
              "  const inputElement = document.getElementById(inputId);\n",
              "  inputElement.disabled = false;\n",
              "\n",
              "  const outputElement = document.getElementById(outputId);\n",
              "  outputElement.innerHTML = '';\n",
              "\n",
              "  const pickedPromise = new Promise((resolve) => {\n",
              "    inputElement.addEventListener('change', (e) => {\n",
              "      resolve(e.target.files);\n",
              "    });\n",
              "  });\n",
              "\n",
              "  const cancel = document.createElement('button');\n",
              "  inputElement.parentElement.appendChild(cancel);\n",
              "  cancel.textContent = 'Cancel upload';\n",
              "  const cancelPromise = new Promise((resolve) => {\n",
              "    cancel.onclick = () => {\n",
              "      resolve(null);\n",
              "    };\n",
              "  });\n",
              "\n",
              "  // Wait for the user to pick the files.\n",
              "  const files = yield {\n",
              "    promise: Promise.race([pickedPromise, cancelPromise]),\n",
              "    response: {\n",
              "      action: 'starting',\n",
              "    }\n",
              "  };\n",
              "\n",
              "  cancel.remove();\n",
              "\n",
              "  // Disable the input element since further picks are not allowed.\n",
              "  inputElement.disabled = true;\n",
              "\n",
              "  if (!files) {\n",
              "    return {\n",
              "      response: {\n",
              "        action: 'complete',\n",
              "      }\n",
              "    };\n",
              "  }\n",
              "\n",
              "  for (const file of files) {\n",
              "    const li = document.createElement('li');\n",
              "    li.append(span(file.name, {fontWeight: 'bold'}));\n",
              "    li.append(span(\n",
              "        `(${file.type || 'n/a'}) - ${file.size} bytes, ` +\n",
              "        `last modified: ${\n",
              "            file.lastModifiedDate ? file.lastModifiedDate.toLocaleDateString() :\n",
              "                                    'n/a'} - `));\n",
              "    const percent = span('0% done');\n",
              "    li.appendChild(percent);\n",
              "\n",
              "    outputElement.appendChild(li);\n",
              "\n",
              "    const fileDataPromise = new Promise((resolve) => {\n",
              "      const reader = new FileReader();\n",
              "      reader.onload = (e) => {\n",
              "        resolve(e.target.result);\n",
              "      };\n",
              "      reader.readAsArrayBuffer(file);\n",
              "    });\n",
              "    // Wait for the data to be ready.\n",
              "    let fileData = yield {\n",
              "      promise: fileDataPromise,\n",
              "      response: {\n",
              "        action: 'continue',\n",
              "      }\n",
              "    };\n",
              "\n",
              "    // Use a chunked sending to avoid message size limits. See b/62115660.\n",
              "    let position = 0;\n",
              "    do {\n",
              "      const length = Math.min(fileData.byteLength - position, MAX_PAYLOAD_SIZE);\n",
              "      const chunk = new Uint8Array(fileData, position, length);\n",
              "      position += length;\n",
              "\n",
              "      const base64 = btoa(String.fromCharCode.apply(null, chunk));\n",
              "      yield {\n",
              "        response: {\n",
              "          action: 'append',\n",
              "          file: file.name,\n",
              "          data: base64,\n",
              "        },\n",
              "      };\n",
              "\n",
              "      let percentDone = fileData.byteLength === 0 ?\n",
              "          100 :\n",
              "          Math.round((position / fileData.byteLength) * 100);\n",
              "      percent.textContent = `${percentDone}% done`;\n",
              "\n",
              "    } while (position < fileData.byteLength);\n",
              "  }\n",
              "\n",
              "  // All done.\n",
              "  yield {\n",
              "    response: {\n",
              "      action: 'complete',\n",
              "    }\n",
              "  };\n",
              "}\n",
              "\n",
              "scope.google = scope.google || {};\n",
              "scope.google.colab = scope.google.colab || {};\n",
              "scope.google.colab._files = {\n",
              "  _uploadFiles,\n",
              "  _uploadFilesContinue,\n",
              "};\n",
              "})(self);\n",
              "</script> "
            ]
          },
          "metadata": {}
        },
        {
          "output_type": "stream",
          "name": "stdout",
          "text": [
            "Saving kaggle.json to kaggle.json\n"
          ]
        }
      ]
    },
    {
      "cell_type": "code",
      "source": [
        "utils.kaggle(token_path=file_path,\n",
        "             datasets=\"shashwatwork/identifying-disease-in-tea-leafs\",\n",
        "             copy=True)"
      ],
      "metadata": {
        "colab": {
          "base_uri": "https://localhost:8080/"
        },
        "id": "fcmev9knkwfN",
        "outputId": "f90bdb84-7f6e-4e14-df90-4411c741ed40"
      },
      "execution_count": 7,
      "outputs": [
        {
          "output_type": "stream",
          "name": "stdout",
          "text": [
            "'kaggle.json' file have been copied to /root/.kaggle/kaggle.json!\n",
            "Downloading identifying-disease-in-tea-leafs.zip to /content\n"
          ]
        },
        {
          "output_type": "stream",
          "name": "stderr",
          "text": [
            "100%|██████████| 740M/740M [00:06<00:00, 128MB/s]"
          ]
        },
        {
          "output_type": "stream",
          "name": "stdout",
          "text": [
            "\n",
            "\n",
            "Dataset has been successfully downloaded!\n"
          ]
        },
        {
          "output_type": "stream",
          "name": "stderr",
          "text": [
            "\n"
          ]
        }
      ]
    },
    {
      "cell_type": "code",
      "source": [
        "utils.unzip(path=\"/content/identifying-disease-in-tea-leafs.zip\", output_dir=\"/content\")"
      ],
      "metadata": {
        "colab": {
          "base_uri": "https://localhost:8080/"
        },
        "id": "_nYvTQgNmDFY",
        "outputId": "5b261fe4-2c05-464f-9249-56142db45fc7"
      },
      "execution_count": 8,
      "outputs": [
        {
          "output_type": "stream",
          "name": "stdout",
          "text": [
            "'/content/identifying-disease-in-tea-leafs.zip' has been extracted!\n"
          ]
        }
      ]
    },
    {
      "cell_type": "code",
      "source": [
        "dataset_base = \"/content/dataset\"\n",
        "os.rename(\"/content/tea sickness dataset\", dataset_base)"
      ],
      "metadata": {
        "id": "3aOgE6Hx-xr0"
      },
      "execution_count": 9,
      "outputs": []
    },
    {
      "cell_type": "code",
      "source": [
        "normalize_dir(dataset_base)"
      ],
      "metadata": {
        "id": "rSiLySoS-u-F"
      },
      "execution_count": 11,
      "outputs": []
    },
    {
      "cell_type": "code",
      "source": [
        "splitfolders.ratio(\n",
        "    dataset_base,\n",
        "    output=\"main_dataset\",\n",
        "    seed=2345, ratio=(.5, .0, .5),\n",
        "    move=False\n",
        ")"
      ],
      "metadata": {
        "colab": {
          "base_uri": "https://localhost:8080/"
        },
        "id": "YvDZypWC-ryY",
        "outputId": "f1ea5bba-55ce-484e-bcb3-0b29e4c9d983"
      },
      "execution_count": 14,
      "outputs": [
        {
          "output_type": "stream",
          "name": "stderr",
          "text": [
            "Copying files: 885 files [00:02, 359.91 files/s] \n"
          ]
        }
      ]
    },
    {
      "cell_type": "code",
      "source": [
        "dataset_base = \"/content/main_dataset\"\n",
        "\n",
        "shutil.rmtree(os.path.join(dataset_base, \"val\"))"
      ],
      "metadata": {
        "id": "wIGAG2ao_ZvG"
      },
      "execution_count": 15,
      "outputs": []
    },
    {
      "cell_type": "markdown",
      "source": [
        "### Evaluation"
      ],
      "metadata": {
        "id": "IxQUnXvNcsXd"
      }
    },
    {
      "cell_type": "code",
      "source": [
        "TEST_PATH = os.path.join(dataset_base, \"test\")"
      ],
      "metadata": {
        "id": "7DIuky8rnpYv"
      },
      "execution_count": 16,
      "outputs": []
    },
    {
      "cell_type": "code",
      "source": [
        "Y_HAT = list()\n",
        "Y_TRUE = list()\n",
        "\n",
        "for subdir in os.listdir(TEST_PATH):\n",
        "    class_path = os.path.join(TEST_PATH, subdir)\n",
        "    images = os.listdir(class_path)\n",
        "\n",
        "    for image in images:\n",
        "        image_path = os.path.join(class_path, image)\n",
        "\n",
        "        y_hat, y_hat_i = tldi.predict(tldi_g2_1,\n",
        "                             image_path,\n",
        "                             CLASS_MAPPING,\n",
        "                             display_img=False,\n",
        "                             raw_pred=False)\n",
        "        \n",
        "        y_true_i = CLASS_MAPPING.index(subdir)\n",
        "\n",
        "        print(y_hat)\n",
        "        print(y_hat_i)\n",
        "\n",
        "        print(y_true_i)\n",
        "        print(subdir)\n",
        "\n",
        "        Y_HAT.append(y_hat_i)\n",
        "        Y_TRUE.append(y_true_i)"
      ],
      "metadata": {
        "id": "5Kb8R7fm_zsj"
      },
      "execution_count": null,
      "outputs": []
    },
    {
      "cell_type": "code",
      "source": [
        "print(classification_report(Y_TRUE, Y_HAT, target_names=CLASS_MAPPING))"
      ],
      "metadata": {
        "colab": {
          "base_uri": "https://localhost:8080/"
        },
        "id": "xSjxxZf5JFiE",
        "outputId": "7e3e9dc3-3df3-4780-cd92-2226e1a1deec"
      },
      "execution_count": 71,
      "outputs": [
        {
          "output_type": "stream",
          "name": "stdout",
          "text": [
            "               precision    recall  f1-score   support\n",
            "\n",
            "   algal_leaf       0.94      0.77      0.85        57\n",
            "  anthracnose       0.63      0.84      0.72        50\n",
            "bird_eye_spot       0.82      0.64      0.72        50\n",
            " brown_blight       0.85      0.93      0.89        57\n",
            "   gray_light       0.84      0.74      0.79        50\n",
            "      healthy       1.00      1.00      1.00        37\n",
            "red_leaf_spot       1.00      0.82      0.90        72\n",
            "   white_spot       0.69      0.86      0.76        71\n",
            "\n",
            "     accuracy                           0.82       444\n",
            "    macro avg       0.85      0.83      0.83       444\n",
            " weighted avg       0.84      0.82      0.82       444\n",
            "\n"
          ]
        }
      ]
    },
    {
      "cell_type": "markdown",
      "source": [
        "### Getting a Prediction"
      ],
      "metadata": {
        "id": "M2GDM6__AJAV"
      }
    },
    {
      "cell_type": "code",
      "source": [
        "img = {\"path\": \"/content/main_dataset/test/healthy/UNADJUSTEDNONRAW_thumb_209.jpg\",\n",
        "       \"y_true\": \"healthy\"}\n",
        "\n",
        "\n",
        "y_hat, i = tldi.predict(tldi_g2_1, img[\"path\"], CLASS_MAPPING)\n",
        "img[\"y_hat\"] = y_hat\n",
        "\n",
        "print(img)"
      ],
      "metadata": {
        "colab": {
          "base_uri": "https://localhost:8080/",
          "height": 304
        },
        "id": "FyFQOQzmfnKT",
        "outputId": "63e619a7-a099-41e1-888a-d650f851dee4"
      },
      "execution_count": 49,
      "outputs": [
        {
          "output_type": "display_data",
          "data": {
            "text/plain": [
              "<Figure size 432x288 with 2 Axes>"
            ],
            "image/png": "[encoded data removed]"
          },
          "metadata": {
            "needs_background": "light"
          }
        },
        {
          "output_type": "stream",
          "name": "stdout",
          "text": [
            "1/1 [==============================] - 0s 98ms/step\n",
            "{'path': '/content/main_dataset/test/healthy/UNADJUSTEDNONRAW_thumb_209.jpg', 'y_true': 'healthy', 'y_hat': 'healthy'}\n"
          ]
        }
      ]
    }
  ]
}